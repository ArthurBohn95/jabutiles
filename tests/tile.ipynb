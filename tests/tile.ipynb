{
 "cells": [
  {
   "cell_type": "code",
   "execution_count": 7,
   "id": "1d37dfdf",
   "metadata": {},
   "outputs": [
    {
     "name": "stdout",
     "output_type": "stream",
     "text": [
      "os.getcwd()='/home/deck/Documents/GitHub/jabutiles'\n"
     ]
    }
   ],
   "source": [
    "try:\n",
    "    if LOADED: # type: ignore\n",
    "        pass\n",
    "except:\n",
    "    import os\n",
    "    from pathlib import Path\n",
    "    os.chdir(Path(os.getcwd()).resolve().parent.as_posix())\n",
    "finally:\n",
    "    print(f\"{os.getcwd()=}\")\n",
    "LOADED = True"
   ]
  },
  {
   "cell_type": "code",
   "execution_count": 8,
   "id": "d9801e6e",
   "metadata": {},
   "outputs": [],
   "source": [
    "from jabutiles_old import Tile, Mask\n",
    "from jabutiles_old.tilegen import TileGen"
   ]
  },
  {
   "cell_type": "markdown",
   "id": "4fa19254",
   "metadata": {},
   "source": [
    "# Procedural Tile Generation Showdown"
   ]
  },
  {
   "cell_type": "code",
   "execution_count": 9,
   "id": "1d8c806b",
   "metadata": {},
   "outputs": [],
   "source": [
    "SCALE = 4"
   ]
  },
  {
   "cell_type": "markdown",
   "id": "917b53f9",
   "metadata": {},
   "source": [
    "## Curbstone on Grass"
   ]
  },
  {
   "cell_type": "code",
   "execution_count": 10,
   "id": "70f77fc7",
   "metadata": {},
   "outputs": [
    {
     "data": {
      "image/jpeg": "[encoded data removed]",
      "image/png": "[encoded data removed]",
      "text/plain": [
       "<PIL.Image.Image image mode=L size=192x192>"
      ]
     },
     "metadata": {},
     "output_type": "display_data"
    },
    {
     "data": {
      "image/png": "[encoded data removed]",
      "text/plain": [
       "<PIL.Image.Image image mode=RGBA size=192x192>"
      ]
     },
     "metadata": {},
     "output_type": "display_data"
    }
   ],
   "source": [
    "SIZE = 48\n",
    "GAP_SIZE = 2\n",
    "BRICK_SIZE = (SIZE//4-GAP_SIZE, SIZE//4-GAP_SIZE)\n",
    "EDGE_WIDTH = 1\n",
    "SHADE_FORCE = 0.80\n",
    "\n",
    "shape_mask = TileGen.gen_ort_mask(SIZE)\n",
    "pattern_mask = TileGen.gen_brick_pattern_mask(\n",
    "    shape_mask.size,\n",
    "    BRICK_SIZE,\n",
    "    GAP_SIZE,\n",
    "    EDGE_WIDTH,\n",
    ").offset((-1, -1))\n",
    "pattern_mask.display(SCALE)\n",
    "\n",
    "texture_tile1 = TileGen.gen_texture_tile(shape_mask.size, 'grass').color(SHADE_FORCE)\n",
    "texture_tile2 = TileGen.gen_texture_tile(shape_mask.size, 'stone.raw')\n",
    "\n",
    "shaded_base = texture_tile1.shade(pattern_mask, (+1, +1), SHADE_FORCE, False)\n",
    "shaded_head = texture_tile2.shade(pattern_mask, (-1, -1), SHADE_FORCE, True)\n",
    "\n",
    "final = shaded_base.overlay(shaded_head, pattern_mask)\n",
    "final.display(SCALE)\n",
    "# final.save(\"examples/stone_road_on_grass.png\")"
   ]
  },
  {
   "cell_type": "markdown",
   "id": "2c04f33f",
   "metadata": {},
   "source": [
    "## Plank brigde over Water"
   ]
  },
  {
   "cell_type": "code",
   "execution_count": 11,
   "id": "2a54ec6e",
   "metadata": {},
   "outputs": [
    {
     "ename": "AttributeError",
     "evalue": "'Mask' object has no attribute 'shape'",
     "output_type": "error",
     "traceback": [
      "\u001b[31m---------------------------------------------------------------------------\u001b[39m",
      "\u001b[31mAttributeError\u001b[39m                            Traceback (most recent call last)",
      "\u001b[36mCell\u001b[39m\u001b[36m \u001b[39m\u001b[32mIn[11]\u001b[39m\u001b[32m, line 9\u001b[39m\n\u001b[32m      7\u001b[39m \u001b[38;5;66;03m# base_mask = TileGen.gen_ort_mask(SIZE)\u001b[39;00m\n\u001b[32m      8\u001b[39m head_mask1 = TileGen.gen_line_draw_mask(SIZE, [((SIZE[\u001b[32m0\u001b[39m]//\u001b[32m4\u001b[39m-\u001b[32m0.5\u001b[39m, \u001b[32m0\u001b[39m), (SIZE[\u001b[32m0\u001b[39m]//\u001b[32m4\u001b[39m-\u001b[32m0.5\u001b[39m, SIZE[\u001b[32m1\u001b[39m]), \u001b[32m8\u001b[39m)])\n\u001b[32m----> \u001b[39m\u001b[32m9\u001b[39m head_mask1 = \u001b[43mMask\u001b[49m\u001b[43m.\u001b[49m\u001b[43mmerge_masks\u001b[49m\u001b[43m(\u001b[49m\u001b[43m[\u001b[49m\u001b[43mhead_mask1\u001b[49m\u001b[43m,\u001b[49m\u001b[43m \u001b[49m\u001b[43mhead_mask1\u001b[49m\u001b[43m.\u001b[49m\u001b[43mmirror\u001b[49m\u001b[43m(\u001b[49m\u001b[33;43m'\u001b[39;49m\u001b[33;43my\u001b[39;49m\u001b[33;43m'\u001b[39;49m\u001b[43m)\u001b[49m\u001b[43m]\u001b[49m\u001b[43m)\u001b[49m\n\u001b[32m     10\u001b[39m head_mask2 = TileGen.gen_brick_pattern_mask(SIZE, PLANK_SIZE, GAP_SIZE, EDGE_WIDTH, \u001b[32m1\u001b[39m).offset((-\u001b[32m2\u001b[39m, -\u001b[32m1\u001b[39m), \u001b[38;5;28;01mFalse\u001b[39;00m)\n\u001b[32m     11\u001b[39m head_mask1_2 = Mask.merge_masks([head_mask1, head_mask2])\n",
      "\u001b[36mFile \u001b[39m\u001b[32m~/Documents/GitHub/jabutiles/jabutiles_old/mask.py:51\u001b[39m, in \u001b[36mMask.merge_masks\u001b[39m\u001b[34m(masks, **params)\u001b[39m\n\u001b[32m     48\u001b[39m     \u001b[38;5;28;01mfor\u001b[39;00m mask \u001b[38;5;129;01min\u001b[39;00m masks[\u001b[32m1\u001b[39m:]:\n\u001b[32m     49\u001b[39m         base |= mask.as_array\n\u001b[32m---> \u001b[39m\u001b[32m51\u001b[39m     \u001b[38;5;28;01mreturn\u001b[39;00m Mask(base, \u001b[43mmasks\u001b[49m\u001b[43m[\u001b[49m\u001b[43m-\u001b[49m\u001b[32;43m1\u001b[39;49m\u001b[43m]\u001b[49m\u001b[43m.\u001b[49m\u001b[43mshape\u001b[49m)\n\u001b[32m     53\u001b[39m \u001b[38;5;28;01mif\u001b[39;00m \u001b[38;5;28misinstance\u001b[39m(masks, \u001b[38;5;28mdict\u001b[39m):\n\u001b[32m     54\u001b[39m     mask_data = masks.copy()\n",
      "\u001b[31mAttributeError\u001b[39m: 'Mask' object has no attribute 'shape'"
     ]
    }
   ],
   "source": [
    "SIZE = (48, 48)\n",
    "PLANK_SIZE = (SIZE[0]-7, SIZE[1]//5+1)\n",
    "GAP_SIZE = (5, 2)\n",
    "EDGE_WIDTH = 1\n",
    "SHADE_FORCE = 0.80\n",
    "\n",
    "# base_mask = TileGen.gen_ort_mask(SIZE)\n",
    "head_mask1 = TileGen.gen_line_draw_mask(SIZE, [((SIZE[0]//4-0.5, 0), (SIZE[0]//4-0.5, SIZE[1]), 8)])\n",
    "head_mask1 = Mask.merge_masks([head_mask1, head_mask1.mirror('y')])\n",
    "head_mask2 = TileGen.gen_brick_pattern_mask(SIZE, PLANK_SIZE, GAP_SIZE, EDGE_WIDTH, 1).offset((-2, -1), False)\n",
    "head_mask1_2 = Mask.merge_masks([head_mask1, head_mask2])\n",
    "\n",
    "head_mask1.display(SCALE)\n",
    "head_mask2.display(SCALE)\n",
    "\n",
    "texture_tile1 = TileGen.gen_texture_tile(SIZE, 'water').color(0.75)\n",
    "texture_tile2 = TileGen.gen_texture_tile(SIZE, 'wood')\n",
    "\n",
    "base_tile =  texture_tile1.shade(head_mask1_2, (+1, +2), SHADE_FORCE, False)\n",
    "head_tile1 = texture_tile2.shade(head_mask2, (-1, -1), SHADE_FORCE, True)\n",
    "head_tile2 = texture_tile2.rotate(90).shade(head_mask2, (-1, -1), SHADE_FORCE, True)\n",
    "\n",
    "final = Tile.merge_tiles(\n",
    "    (base_tile, None),\n",
    "    (head_tile1, head_mask1),\n",
    "    (head_tile2, head_mask2),\n",
    ")\n",
    "\n",
    "final.display(SCALE)\n",
    "# final.save(\"examples/wood_bridge_over_water.png\")"
   ]
  },
  {
   "cell_type": "code",
   "execution_count": 13,
   "id": "050c751d",
   "metadata": {},
   "outputs": [
    {
     "data": {
      "image/jpeg": "[encoded data removed]",
      "image/png": "[encoded data removed]",
      "text/plain": [
       "<PIL.Image.Image image mode=L size=192x192>"
      ]
     },
     "metadata": {},
     "output_type": "display_data"
    },
    {
     "data": {
      "image/png": "[encoded data removed]",
      "text/plain": [
       "<PIL.Image.Image image mode=RGBA size=192x192>"
      ]
     },
     "metadata": {},
     "output_type": "display_data"
    }
   ],
   "source": [
    "SIZE = 48\n",
    "GAP_SIZE = 2\n",
    "BRICK_SIZE = (SIZE//2-GAP_SIZE, SIZE//4-GAP_SIZE)\n",
    "EDGE_WIDTH = 1\n",
    "SHADE_FORCE = 0.75\n",
    "\n",
    "shape_mask = TileGen.gen_ort_mask(SIZE)\n",
    "pattern_mask = TileGen.gen_brick_pattern_mask(shape_mask.size, BRICK_SIZE, GAP_SIZE, EDGE_WIDTH).offset((-1, -1))\n",
    "pattern_mask.display(SCALE)\n",
    "\n",
    "texture_tile1 = TileGen.gen_texture_tile(shape_mask.size, 'stone').contrast(2)\n",
    "texture_tile2 = TileGen.gen_texture_tile(shape_mask.size, 'clay').color(0.9)\n",
    "\n",
    "shaded_base = texture_tile1.shade(pattern_mask, (+1, +1), SHADE_FORCE, False)\n",
    "shaded_head = texture_tile2.shade(pattern_mask, (-1, -1), SHADE_FORCE, True)\n",
    "\n",
    "combined = shaded_base.overlay(shaded_head, pattern_mask)\n",
    "combined.display(SCALE)\n",
    "# combined.save(\"examples/clay_brick_wall.png\")"
   ]
  },
  {
   "cell_type": "code",
   "execution_count": 12,
   "id": "cfc0f403",
   "metadata": {},
   "outputs": [
    {
     "data": {
      "image/jpeg": "[encoded data removed]",
      "image/png": "[encoded data removed]",
      "text/plain": [
       "<PIL.Image.Image image mode=L size=184x184>"
      ]
     },
     "metadata": {},
     "output_type": "display_data"
    },
    {
     "data": {
      "image/png": "[encoded data removed]",
      "text/plain": [
       "<PIL.Image.Image image mode=RGBA size=184x184>"
      ]
     },
     "metadata": {},
     "output_type": "display_data"
    },
    {
     "ename": "AttributeError",
     "evalue": "type object 'Mask' has no attribute '_create_symmetrical_outline'",
     "output_type": "error",
     "traceback": [
      "\u001b[31m---------------------------------------------------------------------------\u001b[39m",
      "\u001b[31mAttributeError\u001b[39m                            Traceback (most recent call last)",
      "\u001b[36mCell\u001b[39m\u001b[36m \u001b[39m\u001b[32mIn[12]\u001b[39m\u001b[32m, line 22\u001b[39m\n\u001b[32m     19\u001b[39m combined.display(SCALE)\n\u001b[32m     21\u001b[39m \u001b[38;5;28;01mfrom\u001b[39;00m\u001b[38;5;250m \u001b[39m\u001b[34;01mjabutiles_old\u001b[39;00m\u001b[34;01m.\u001b[39;00m\u001b[34;01mconvert\u001b[39;00m\u001b[38;5;250m \u001b[39m\u001b[38;5;28;01mimport\u001b[39;00m convert_ort2iso\n\u001b[32m---> \u001b[39m\u001b[32m22\u001b[39m final = \u001b[43mconvert_ort2iso\u001b[49m\u001b[43m(\u001b[49m\u001b[43mcombined\u001b[49m\u001b[43m,\u001b[49m\u001b[43m \u001b[49m\u001b[43mPAD\u001b[49m\u001b[43m)\u001b[49m\n\u001b[32m     23\u001b[39m final.display(SCALE)\n\u001b[32m     25\u001b[39m \u001b[38;5;28mprint\u001b[39m(\u001b[33mf\u001b[39m\u001b[33m\"\u001b[39m\u001b[38;5;132;01m{\u001b[39;00mfinal.size\u001b[38;5;132;01m=}\u001b[39;00m\u001b[33m\"\u001b[39m)\n",
      "\u001b[36mFile \u001b[39m\u001b[32m~/Documents/GitHub/jabutiles/jabutiles_old/convert.py:20\u001b[39m, in \u001b[36mconvert_ort2iso\u001b[39m\u001b[34m(tile, pad)\u001b[39m\n\u001b[32m     17\u001b[39m w, h = x*\u001b[32m2\u001b[39m, x\n\u001b[32m     18\u001b[39m base = base.crop((pad, pad//\u001b[32m2\u001b[39m, w-pad, h-pad//\u001b[32m2\u001b[39m))\n\u001b[32m---> \u001b[39m\u001b[32m20\u001b[39m isomask = \u001b[43mTileGen\u001b[49m\u001b[43m.\u001b[49m\u001b[43mgen_iso_mask\u001b[49m\u001b[43m(\u001b[49m\u001b[43mbase\u001b[49m\u001b[43m.\u001b[49m\u001b[43msize\u001b[49m\u001b[43m)\u001b[49m\n\u001b[32m     21\u001b[39m \u001b[38;5;28;01mreturn\u001b[39;00m base.cutout(isomask)\n",
      "\u001b[36mFile \u001b[39m\u001b[32m~/Documents/GitHub/jabutiles/jabutiles_old/tilegen.py:44\u001b[39m, in \u001b[36mTileGen.gen_iso_mask\u001b[39m\u001b[34m(size, **params)\u001b[39m\n\u001b[32m     38\u001b[39m     W, H = size\n\u001b[32m     40\u001b[39m lines = [\n\u001b[32m     41\u001b[39m     ((\u001b[32m0\u001b[39m, H/\u001b[32m2\u001b[39m-\u001b[32m1\u001b[39m), (W/\u001b[32m2\u001b[39m-\u001b[32m1\u001b[39m, \u001b[32m0\u001b[39m)), \u001b[38;5;66;03m# top-left diagonal\u001b[39;00m\n\u001b[32m     42\u001b[39m ]\n\u001b[32m---> \u001b[39m\u001b[32m44\u001b[39m image = \u001b[43mMask\u001b[49m\u001b[43m.\u001b[49m\u001b[43m_create_symmetrical_outline\u001b[49m((W, H), lines, **params)\n\u001b[32m     46\u001b[39m \u001b[38;5;28;01mreturn\u001b[39;00m Mask(image, \u001b[33m'\u001b[39m\u001b[33miso\u001b[39m\u001b[33m'\u001b[39m)\n",
      "\u001b[31mAttributeError\u001b[39m: type object 'Mask' has no attribute '_create_symmetrical_outline'"
     ]
    }
   ],
   "source": [
    "S = 46\n",
    "SIZE = (S, S)\n",
    "PAD = 4\n",
    "GAP_SIZE = 2\n",
    "BRICK_SIZE = (S//2-GAP_SIZE, S//2-GAP_SIZE)\n",
    "EDGE_WIDTH = 1\n",
    "SHADE_FORCE = 0.75\n",
    "\n",
    "pattern_mask = TileGen.gen_brick_pattern_mask(SIZE, BRICK_SIZE, GAP_SIZE, EDGE_WIDTH).offset((-PAD, 0))\n",
    "pattern_mask.display(SCALE)\n",
    "\n",
    "texture1 = TileGen.gen_texture_tile(SIZE, 'grass')\n",
    "texture2 = TileGen.gen_texture_tile(SIZE, 'stone')\n",
    "\n",
    "shaded_base = texture1.shade(pattern_mask, (+1, +1), SHADE_FORCE, False)\n",
    "shaded_head = texture2.shade(pattern_mask, (-1, -1), SHADE_FORCE, True)\n",
    "\n",
    "combined = shaded_base.overlay(shaded_head, pattern_mask)\n",
    "combined.display(SCALE)\n",
    "\n",
    "from jabutiles_old.convert import convert_ort2iso\n",
    "final = convert_ort2iso(combined, PAD)\n",
    "final.display(SCALE)\n",
    "\n",
    "print(f\"{final.size=}\")\n",
    "# final.save(\"examples/isometric_stone_road.png\")"
   ]
  },
  {
   "cell_type": "code",
   "execution_count": 14,
   "id": "86f75485",
   "metadata": {},
   "outputs": [
    {
     "ename": "AttributeError",
     "evalue": "'super' object has no attribute 'cutout'",
     "output_type": "error",
     "traceback": [
      "\u001b[31m---------------------------------------------------------------------------\u001b[39m",
      "\u001b[31mAttributeError\u001b[39m                            Traceback (most recent call last)",
      "\u001b[36mCell\u001b[39m\u001b[36m \u001b[39m\u001b[32mIn[14]\u001b[39m\u001b[32m, line 2\u001b[39m\n\u001b[32m      1\u001b[39m tile = Tile(\u001b[33m\"\u001b[39m\u001b[33mtests/samples/addborder.png\u001b[39m\u001b[33m\"\u001b[39m)\n\u001b[32m----> \u001b[39m\u001b[32m2\u001b[39m \u001b[43mtile\u001b[49m\u001b[43m.\u001b[49m\u001b[43mdisplay\u001b[49m\u001b[43m(\u001b[49m\u001b[43mSCALE\u001b[49m\u001b[43m)\u001b[49m\n\u001b[32m      3\u001b[39m tile.outline(\u001b[32m1\u001b[39m, \u001b[33m\"\u001b[39m\u001b[33mwhite\u001b[39m\u001b[33m\"\u001b[39m, combine=\u001b[38;5;28;01mFalse\u001b[39;00m).display(SCALE)\n\u001b[32m      4\u001b[39m tile.outline(\u001b[32m2\u001b[39m, \u001b[33m\"\u001b[39m\u001b[33mblack\u001b[39m\u001b[33m\"\u001b[39m, combine=\u001b[38;5;28;01mTrue\u001b[39;00m).display(SCALE)\n",
      "\u001b[36mFile \u001b[39m\u001b[32m~/Documents/GitHub/jabutiles/jabutiles_old/base.py:101\u001b[39m, in \u001b[36mBaseImage.display\u001b[39m\u001b[34m(self, factor, resample)\u001b[39m\n\u001b[32m     95\u001b[39m \u001b[38;5;28;01mdef\u001b[39;00m\u001b[38;5;250m \u001b[39m\u001b[34mdisplay\u001b[39m(\u001b[38;5;28mself\u001b[39m,\n\u001b[32m     96\u001b[39m         factor: \u001b[38;5;28mfloat\u001b[39m = \u001b[32m1.0\u001b[39m,\n\u001b[32m     97\u001b[39m         resample: Image.Resampling = Image.Resampling.NEAREST,\n\u001b[32m     98\u001b[39m     ) -> \u001b[38;5;28;01mNone\u001b[39;00m:\n\u001b[32m     99\u001b[39m \u001b[38;5;250m    \u001b[39m\u001b[33;03m\"\"\"Displays the Image on a python notebook.\"\"\"\u001b[39;00m\n\u001b[32m--> \u001b[39m\u001b[32m101\u001b[39m     display(ImageOps.scale(\u001b[38;5;28;43mself\u001b[39;49m\u001b[43m.\u001b[49m\u001b[43mimage\u001b[49m, factor, resample))\n",
      "\u001b[36mFile \u001b[39m\u001b[32m~/Documents/GitHub/jabutiles/jabutiles_old/tile.py:44\u001b[39m, in \u001b[36mTile.image\u001b[39m\u001b[34m(self)\u001b[39m\n\u001b[32m     42\u001b[39m \u001b[38;5;129m@property\u001b[39m\n\u001b[32m     43\u001b[39m \u001b[38;5;28;01mdef\u001b[39;00m\u001b[38;5;250m \u001b[39m\u001b[34mimage\u001b[39m(\u001b[38;5;28mself\u001b[39m) -> Image.Image:\n\u001b[32m---> \u001b[39m\u001b[32m44\u001b[39m     \u001b[38;5;28;01mreturn\u001b[39;00m \u001b[38;5;28;43msuper\u001b[39;49m\u001b[43m(\u001b[49m\u001b[43mTexture\u001b[49m\u001b[43m,\u001b[49m\u001b[43m \u001b[49m\u001b[38;5;28;43mself\u001b[39;49m\u001b[43m)\u001b[49m\u001b[43m.\u001b[49m\u001b[43mcutout\u001b[49m(\u001b[38;5;28mself\u001b[39m.mask._image)\n",
      "\u001b[31mAttributeError\u001b[39m: 'super' object has no attribute 'cutout'"
     ]
    }
   ],
   "source": [
    "tile = Tile(\"tests/samples/addborder.png\")\n",
    "tile.display(SCALE)\n",
    "tile.outline(1, \"white\", combine=False).display(SCALE)\n",
    "tile.outline(2, \"black\", combine=True).display(SCALE)"
   ]
  },
  {
   "cell_type": "code",
   "execution_count": 15,
   "id": "090ca86e",
   "metadata": {},
   "outputs": [
    {
     "data": {
      "image/jpeg": "[encoded data removed]",
      "image/png": "[encoded data removed]",
      "text/plain": [
       "<PIL.Image.Image image mode=L size=192x192>"
      ]
     },
     "metadata": {},
     "output_type": "display_data"
    }
   ],
   "source": [
    "TileGen.gen_blobs_mask(\n",
    "    (48, 48), [\n",
    "        ((12, 12), 6.5),     # left eye\n",
    "        ((36, 12), 6.5),     # right eye\n",
    "        ((24, 34), (16, 6)) # mouth\n",
    "    ]\n",
    ").display(SCALE)"
   ]
  },
  {
   "cell_type": "code",
   "execution_count": 16,
   "id": "377699d3",
   "metadata": {},
   "outputs": [
    {
     "data": {
      "image/jpeg": "[encoded data removed]",
      "image/png": "[encoded data removed]",
      "text/plain": [
       "<PIL.Image.Image image mode=L size=192x192>"
      ]
     },
     "metadata": {},
     "output_type": "display_data"
    },
    {
     "ename": "AttributeError",
     "evalue": "'super' object has no attribute 'cutout'",
     "output_type": "error",
     "traceback": [
      "\u001b[31m---------------------------------------------------------------------------\u001b[39m",
      "\u001b[31mAttributeError\u001b[39m                            Traceback (most recent call last)",
      "\u001b[36mCell\u001b[39m\u001b[36m \u001b[39m\u001b[32mIn[16]\u001b[39m\u001b[32m, line 10\u001b[39m\n\u001b[32m      5\u001b[39m lakemask = TileGen.gen_blobs_mask(SIZE, [\n\u001b[32m      6\u001b[39m     ((\u001b[32m21\u001b[39m, \u001b[32m20\u001b[39m), (\u001b[32m14\u001b[39m, \u001b[32m6\u001b[39m)), ((\u001b[32m27\u001b[39m, \u001b[32m27\u001b[39m), (\u001b[32m14\u001b[39m, \u001b[32m8\u001b[39m)),\n\u001b[32m      7\u001b[39m ])\n\u001b[32m      8\u001b[39m lakemask.display(SCALE)\n\u001b[32m---> \u001b[39m\u001b[32m10\u001b[39m edgemask1 = \u001b[43mlakemask\u001b[49m\u001b[43m.\u001b[49m\u001b[43mcutout\u001b[49m\u001b[43m(\u001b[49m\u001b[43mlakemask\u001b[49m\u001b[43m)\u001b[49m.outline(\u001b[32m3\u001b[39m, \u001b[33m\"\u001b[39m\u001b[33mwhite\u001b[39m\u001b[33m\"\u001b[39m, \u001b[38;5;28;01mFalse\u001b[39;00m)\n\u001b[32m     11\u001b[39m edgemask2 = lakemask.cutout(lakemask).outline(\u001b[32m1\u001b[39m, \u001b[33m\"\u001b[39m\u001b[33mwhite\u001b[39m\u001b[33m\"\u001b[39m, \u001b[38;5;28;01mFalse\u001b[39;00m, \u001b[32m0.6\u001b[39m)\n\u001b[32m     12\u001b[39m edgemask1.display(SCALE)\n",
      "\u001b[36mFile \u001b[39m\u001b[32m~/Documents/GitHub/jabutiles/jabutiles_old/mask.py:95\u001b[39m, in \u001b[36mMask.cutout\u001b[39m\u001b[34m(self, mask)\u001b[39m\n\u001b[32m     86\u001b[39m \u001b[38;5;28;01mdef\u001b[39;00m\u001b[38;5;250m \u001b[39m\u001b[34mcutout\u001b[39m(\u001b[38;5;28mself\u001b[39m,\n\u001b[32m     87\u001b[39m         mask: \u001b[33m\"\u001b[39m\u001b[33mMask\u001b[39m\u001b[33m\"\u001b[39m,\n\u001b[32m     88\u001b[39m     ) -> \u001b[33m\"\u001b[39m\u001b[33mMask\u001b[39m\u001b[33m\"\u001b[39m:\n\u001b[32m     89\u001b[39m \u001b[38;5;250m    \u001b[39m\u001b[33;03m\"\"\"Think of 'cutout' as in 'cookie cutter'.  \u001b[39;00m\n\u001b[32m     90\u001b[39m \u001b[33;03m    Cuts a Texture to generate a Tile.\u001b[39;00m\n\u001b[32m     91\u001b[39m \u001b[33;03m    \u001b[39;00m\n\u001b[32m     92\u001b[39m \u001b[33;03m    Always returns a Mask.\u001b[39;00m\n\u001b[32m     93\u001b[39m \u001b[33;03m    \"\"\"\u001b[39;00m\n\u001b[32m---> \u001b[39m\u001b[32m95\u001b[39m     image = \u001b[38;5;28;43msuper\u001b[39;49m\u001b[43m(\u001b[49m\u001b[43m)\u001b[49m\u001b[43m.\u001b[49m\u001b[43mcutout\u001b[49m(mask.image)\n\u001b[32m     97\u001b[39m     \u001b[38;5;28;01mreturn\u001b[39;00m \u001b[38;5;28mself\u001b[39m.copy_with_params(image)\n",
      "\u001b[31mAttributeError\u001b[39m: 'super' object has no attribute 'cutout'"
     ]
    }
   ],
   "source": [
    "SIZE = (48, 48)\n",
    "SHADE_FORCE = 0.9\n",
    "\n",
    "base_mask = TileGen.gen_ort_mask(SIZE)\n",
    "lakemask = TileGen.gen_blobs_mask(SIZE, [\n",
    "    ((21, 20), (14, 6)), ((27, 27), (14, 8)),\n",
    "])\n",
    "lakemask.display(SCALE)\n",
    "\n",
    "edgemask1 = lakemask.cutout(lakemask).outline(3, \"white\", False)\n",
    "edgemask2 = lakemask.cutout(lakemask).outline(1, \"white\", False, 0.6)\n",
    "edgemask1.display(SCALE)\n",
    "edgemask2.display(SCALE)\n",
    "\n",
    "texture1 = TileGen.gen_texture_tile(lakemask.size, \"grass\")\n",
    "texture2 = TileGen.gen_texture_tile(lakemask.size, \"water\")\n",
    "texture3 = TileGen.gen_texture_tile(lakemask.size, \"grass.wet\")#.brightness(SHADE_FORCE)\n",
    "\n",
    "texture2 = texture2.shade(lakemask, (+1, +1), SHADE_FORCE, inverted=True)\n",
    "texture2 = texture2.shade(lakemask, (-1, -1), SHADE_FORCE, inverted=True)\n",
    "\n",
    "final = Tile.merge_tiles(\n",
    "    (texture1, None),\n",
    "    (texture2, lakemask),\n",
    "    (texture3, edgemask1),\n",
    "    (texture3.brightness(0.75), edgemask2),\n",
    "    (None, TileGen.gen_hex_mask(SIZE, 'point')),\n",
    ")\n",
    "final.display(SCALE)\n",
    "# final.save(\"examples/lake_on_grass.png\")"
   ]
  },
  {
   "cell_type": "code",
   "execution_count": 17,
   "id": "8ab663ff",
   "metadata": {},
   "outputs": [
    {
     "ename": "AttributeError",
     "evalue": "type object 'Mask' has no attribute '_create_symmetrical_outline'",
     "output_type": "error",
     "traceback": [
      "\u001b[31m---------------------------------------------------------------------------\u001b[39m",
      "\u001b[31mAttributeError\u001b[39m                            Traceback (most recent call last)",
      "\u001b[36mCell\u001b[39m\u001b[36m \u001b[39m\u001b[32mIn[17]\u001b[39m\u001b[32m, line 4\u001b[39m\n\u001b[32m      1\u001b[39m SIZE = \u001b[32m36\u001b[39m\n\u001b[32m      2\u001b[39m SHADE_FORCE = \u001b[32m0.9\u001b[39m\n\u001b[32m----> \u001b[39m\u001b[32m4\u001b[39m hex_mask = \u001b[43mTileGen\u001b[49m\u001b[43m.\u001b[49m\u001b[43mgen_hex_mask\u001b[49m\u001b[43m(\u001b[49m\u001b[43mSIZE\u001b[49m\u001b[43m,\u001b[49m\u001b[43m \u001b[49m\u001b[33;43m'\u001b[39;49m\u001b[33;43mflat\u001b[39;49m\u001b[33;43m'\u001b[39;49m\u001b[43m)\u001b[49m\n\u001b[32m      5\u001b[39m \u001b[38;5;28mprint\u001b[39m(\u001b[33mf\u001b[39m\u001b[33m\"\u001b[39m\u001b[38;5;132;01m{\u001b[39;00mhex_mask.size\u001b[38;5;132;01m=}\u001b[39;00m\u001b[33m\"\u001b[39m)\n\u001b[32m      6\u001b[39m hex_mask.display(SCALE)\n",
      "\u001b[36mFile \u001b[39m\u001b[32m~/Documents/GitHub/jabutiles/jabutiles_old/tilegen.py:79\u001b[39m, in \u001b[36mTileGen.gen_hex_mask\u001b[39m\u001b[34m(size, top, grain, **params)\u001b[39m\n\u001b[32m     72\u001b[39m     QW += \u001b[32m0.5\u001b[39m\n\u001b[32m     74\u001b[39m lines = [\n\u001b[32m     75\u001b[39m     ((\u001b[32m0.5\u001b[39m, MH-\u001b[32m0.5\u001b[39m), (QW-\u001b[32m0.5\u001b[39m, \u001b[32m0.5\u001b[39m)), \u001b[38;5;66;03m# top-left diagonal\u001b[39;00m\n\u001b[32m     76\u001b[39m     ((QW+\u001b[32m0.5\u001b[39m, \u001b[32m0.5\u001b[39m), (MW, \u001b[32m0.5\u001b[39m)), \u001b[38;5;66;03m# top line\u001b[39;00m\n\u001b[32m     77\u001b[39m ]\n\u001b[32m---> \u001b[39m\u001b[32m79\u001b[39m image = \u001b[43mMask\u001b[49m\u001b[43m.\u001b[49m\u001b[43m_create_symmetrical_outline\u001b[49m((W, H), lines, **params)\n\u001b[32m     81\u001b[39m \u001b[38;5;28;01mif\u001b[39;00m top == \u001b[33m'\u001b[39m\u001b[33mpoint\u001b[39m\u001b[33m'\u001b[39m:\n\u001b[32m     82\u001b[39m     image = image.rotate(\u001b[32m90\u001b[39m, expand=\u001b[38;5;28;01mTrue\u001b[39;00m)\n",
      "\u001b[31mAttributeError\u001b[39m: type object 'Mask' has no attribute '_create_symmetrical_outline'"
     ]
    }
   ],
   "source": [
    "SIZE = 36\n",
    "SHADE_FORCE = 0.9\n",
    "\n",
    "hex_mask = TileGen.gen_hex_mask(SIZE, 'flat')\n",
    "print(f\"{hex_mask.size=}\")\n",
    "hex_mask.display(SCALE)\n",
    "\n",
    "pathmask = TileGen.gen_line_draw_mask(hex_mask.size,\n",
    "    [\n",
    "        ((17, 0 ), (17, 17), 6),\n",
    "        ((16, 16), (37, 26), 6),\n",
    "    ]\n",
    ").smooth(1, False)\n",
    "pathmask.display(SCALE)\n",
    "\n",
    "texture1 = TileGen.gen_texture_tile(hex_mask.size, \"grass\")\n",
    "texture2 = TileGen.gen_texture_tile(hex_mask.size, \"dirt\").brightness(SHADE_FORCE)\n",
    "texture2 = texture2.shade(pathmask, (3, -1), SHADE_FORCE, True, False)\n",
    "\n",
    "texture1.display(SCALE)\n",
    "texture2.display(SCALE)\n",
    "\n",
    "final = (texture1\n",
    "    .overlay(texture2, pathmask)\n",
    "    .cutout(hex_mask)\n",
    ")\n",
    "final.display(SCALE)\n",
    "# final.save(\"examples/dirt_road_on_grass.png\")"
   ]
  },
  {
   "cell_type": "code",
   "execution_count": null,
   "id": "45a5869f",
   "metadata": {},
   "outputs": [],
   "source": []
  }
 ],
 "metadata": {
  "kernelspec": {
   "display_name": "venv",
   "language": "python",
   "name": "python3"
  },
  "language_info": {
   "codemirror_mode": {
    "name": "ipython",
    "version": 3
   },
   "file_extension": ".py",
   "mimetype": "text/x-python",
   "name": "python",
   "nbconvert_exporter": "python",
   "pygments_lexer": "ipython3",
   "version": "3.12.10"
  }
 },
 "nbformat": 4,
 "nbformat_minor": 5
}
