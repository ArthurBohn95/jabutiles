{
 "cells": [
  {
   "cell_type": "code",
   "execution_count": null,
   "id": "9632fdf1",
   "metadata": {},
   "outputs": [],
   "source": [
    "from jabutiles.tile import Tile\n",
    "from jabutiles.mask import Mask\n",
    "from jabutiles.layer import Layer\n",
    "from jabutiles.shade import Shade\n",
    "from jabutiles.maskgen import MaskGen, ShapeMaskGen\n",
    "from jabutiles.texture import Texture, TextureGen\n",
    "from jabutiles.utils_img import display_image\n",
    "\n",
    "S = 48\n",
    "SIZE = (S, S)\n",
    "SCALE = 8\n",
    "FORCE = 1.25\n",
    "\n",
    "tx1 = TextureGen.named_texture(SIZE, \"dirt\")\n",
    "tx2 = TextureGen.named_texture(SIZE, \"gravel\")\n",
    "tx3 = TextureGen.named_texture(SIZE, \"grass\")\n",
    "tx4 = TextureGen.named_texture(SIZE, \"water.shallow\")\n",
    "\n",
    "mk1 = MaskGen.brick_pattern(SIZE, (10, 10), 2, 1).offset((-1, -1), \"wrap\")\n",
    "mk2 = MaskGen.blob_draw(SIZE, [((S/2-0.5, S/2-0.5), S/2-4.5)]).invert()\n",
    "mk3 = ShapeMaskGen.hexagonal(SIZE)\n",
    "\n",
    "sh1 = Shade(FORCE, (-1, +1), \"wrap\", inverted=True)\n",
    "sh2 = Shade(1/FORCE, (-1, +1), \"wrap\")\n",
    "sh3 = Shade(1/FORCE, outline=2)\n",
    "sh4 = Shade(1/FORCE, outline=2, dist=0.5, inverted=True)\n",
    "\n",
    "tl1 = Tile([\n",
    "    Layer(tx1),\n",
    "    Layer(tx2, mk1, sh1, sh2),\n",
    "    Layer(tx3, mk2, sh4, sh3),\n",
    "])\n",
    "display_image(tl1.image, 5)\n",
    "\n",
    "tl1.set_shape(mk3)\n",
    "display_image(tl1.image, 5)\n",
    "\n",
    "tl1.set_base(tx4)\n",
    "display_image(tl1.image, 5)"
   ]
  },
  {
   "cell_type": "code",
   "execution_count": null,
   "metadata": {},
   "outputs": [],
   "source": []
  },
  {
   "cell_type": "code",
   "execution_count": null,
   "id": "b0013c83",
   "metadata": {},
   "outputs": [],
   "source": [
    "\n",
    "\n",
    "highlight = Shade(FORCE, (-1, +1), \"wrap\", inverted=True)\n",
    "shadows = Shade(1/FORCE, (-1, +1), \"wrap\")\n",
    "overhead = Shade(1/FORCE, outline=2.5)\n",
    "\n",
    "bricktop = highlight.stamp(tx2, mk1)\n",
    "grassbotom = shadows.stamp(tx1, mk1)\n",
    "\n",
    "final = grassbotom.combine(bricktop, mk1)\n",
    "final.display(SCALE)\n",
    "\n",
    "final = overhead.stamp(final, mk2)\n",
    "final = final.combine(tx3, mk2)\n",
    "final.display(SCALE)"
   ]
  },
  {
   "cell_type": "code",
   "execution_count": null,
   "id": "e95d03f7",
   "metadata": {},
   "outputs": [],
   "source": []
  },
  {
   "cell_type": "code",
   "execution_count": null,
   "id": "0ee63407",
   "metadata": {},
   "outputs": [],
   "source": [
    "\n",
    "tl1 = Tile([\n",
    "    Layer(tx1),\n",
    "    Layer(tx2, mk1, Shade(0.8, (-1, +1), \"wrap\")),\n",
    "    Layer(tx3, mk2, Shade(1.5, 0, (2, 0.5))),\n",
    "])\n",
    "tl1.display(SCALE)"
   ]
  },
  {
   "cell_type": "code",
   "execution_count": null,
   "id": "9301463e",
   "metadata": {},
   "outputs": [],
   "source": [
    "\n",
    "s1 = ShapeMaskGen.hexagonal((48, 48))\n",
    "print(f\"{s1=}\")\n",
    "# s1.display(4)\n",
    "\n",
    "m1 = MaskGen.line_draw((48, 48), [((12, 0), (0, 48), 8)])\n",
    "m1 = m1.merge(m1.reflect('y'))\n",
    "m1 = m1.merge(m1.rotate(90))\n",
    "print(f\"{m1=}\")\n",
    "# m1.display(4)\n",
    "\n",
    "t1 = TextureGen.named_texture(48, \"grass\")\n",
    "print(f\"{t1=}\")\n",
    "# t1.display(4)\n",
    "\n",
    "t2 = TextureGen.named_texture(48, \"stone\")\n",
    "print(f\"{t2=}\")\n",
    "# t2.display(4)\n",
    "\n",
    "t3 = TextureGen.named_texture(48, \"water\")\n",
    "print(f\"{t3=}\")\n",
    "\n",
    "tl1 = Tile([*t1.overlay(t2, m1), Layer(None, s1)])\n",
    "print(f\"{tl1=}\")\n",
    "tl1.display(4)"
   ]
  },
  {
   "cell_type": "code",
   "execution_count": null,
   "id": "45e61c83",
   "metadata": {},
   "outputs": [],
   "source": [
    "tl1.set_base(t3)\n",
    "tl1.display(4)"
   ]
  },
  {
   "cell_type": "code",
   "execution_count": null,
   "id": "85ce6170",
   "metadata": {},
   "outputs": [],
   "source": []
  },
  {
   "cell_type": "code",
   "execution_count": null,
   "id": "077a67ac",
   "metadata": {},
   "outputs": [],
   "source": [
    "\n",
    "tx1 = Texture(\"examples/stone_road_on_grass.png\")\n",
    "# tx1.display(4)\n",
    "tx2 = Texture(\"examples/clay_brick_wall.png\")\n",
    "\n",
    "m1 = Mask(\"tests/samples/masks/curve_NW.png\").repeat((48, 48))\n",
    "# m1.display(4)\n",
    "\n",
    "l1 = tx1.cutout(m1)\n",
    "display_image(l1.image, 4)\n",
    "\n",
    "t1 = tx1.overlay(tx2, m1)\n",
    "display_image(t1.image, 4)"
   ]
  },
  {
   "cell_type": "code",
   "execution_count": null,
   "metadata": {},
   "outputs": [],
   "source": []
  },
  {
   "cell_type": "code",
   "execution_count": null,
   "id": "d935ccd3",
   "metadata": {},
   "outputs": [],
   "source": []
  },
  {
   "cell_type": "code",
   "execution_count": null,
   "id": "d8628290",
   "metadata": {},
   "outputs": [],
   "source": []
  },
  {
   "cell_type": "code",
   "execution_count": null,
   "id": "02584f59",
   "metadata": {},
   "outputs": [],
   "source": [
    "from PIL import Image\n",
    "from jabutiles.utils_img import display_image, get_outline\n",
    "\n",
    "img = Image.open(\"tests/samples/addborder.png\")\n",
    "display_image(img)\n",
    "\n",
    "otl = get_outline(img)\n",
    "display_image(otl)"
   ]
  },
  {
   "cell_type": "code",
   "execution_count": null,
   "metadata": {},
   "outputs": [],
   "source": [
    "from jabutiles.texture import Texture\n",
    "\n",
    "t = Texture(\"examples/stone_road_on_grass.png\")\n",
    "t.display(5)\n",
    "\n",
    "o = (-10, -20)\n",
    "t.offset(o, None).display(5)\n",
    "# t.offset(o, 'wrap').display(5)\n",
    "t.offset(o, 'bleed').display(5)"
   ]
  },
  {
   "cell_type": "code",
   "execution_count": null,
   "id": "01cb309f",
   "metadata": {},
   "outputs": [],
   "source": [
    "from PIL import ImageFilter, Image, ImageDraw, ImageOps\n",
    "\n",
    "from jabutiles import Mask, Tile, Texture\n",
    "from jabutiles.tilegen import TileGen"
   ]
  },
  {
   "cell_type": "code",
   "execution_count": null,
   "id": "04796ca4",
   "metadata": {},
   "outputs": [],
   "source": [
    "mask = TileGen.gen_brick_pattern_mask(12, (10, 10), 2, 1, 0).offset((-1, -1))\n",
    "mask = mask.invert().outline(1, \"white\", True, 0.33).invert()\n",
    "mask.display(4)\n",
    "\n",
    "(mask\n",
    "    .repeat(\n",
    "        (96, 96),\n",
    "        mirrors=['x', 'y', 'p', 'n'],\n",
    "        rotations=[0, 90, 180, 270],\n",
    "    )\n",
    ").display(4)"
   ]
  },
  {
   "cell_type": "code",
   "execution_count": null,
   "id": "43ff14b7",
   "metadata": {},
   "outputs": [],
   "source": []
  },
  {
   "cell_type": "code",
   "execution_count": null,
   "id": "5e538f39",
   "metadata": {},
   "outputs": [],
   "source": [
    "img1 = TileGen.gen_texture_tile((48, 48), \"grass\").image\n",
    "img2 = TileGen.gen_texture_tile((48, 48), \"stone\").image\n",
    "img3 = TileGen.gen_texture_tile((48, 48), \"water\").image\n",
    "\n",
    "img4 = TileGen.gen_brick_pattern_mask(48, 6, 2, 1).image\n",
    "img5 = TileGen.gen_blobs_mask((48, 48), [((24, 24), (12, 8))]).image\n",
    "img6 = TileGen.gen_hex_mask((48, 48), \"flat\").image\n",
    "\n",
    "text1 = Texture(img1)\n",
    "text2 = Texture(img2)\n",
    "text3 = Texture(img3)\n",
    "mask1 = Mask(img4).offset((-1, 3))\n",
    "mask2 = Mask(img5).filter(ImageFilter.SMOOTH)\n",
    "mask3 = Mask(img6, \"hex.flat\")\n",
    "\n",
    "mask1.display(5)\n",
    "\n",
    "final = Tile.merge_tiles(\n",
    "    (text1, None),  # base\n",
    "    (text2, mask1), # head\n",
    "    (text3, mask2), # head\n",
    "    (None, mask3),  # mask\n",
    ")\n",
    "final.display(4)\n",
    "print(f\"{final.shape=}\")"
   ]
  },
  {
   "cell_type": "code",
   "execution_count": null,
   "id": "1033073b",
   "metadata": {},
   "outputs": [],
   "source": [
    "m = Mask(TileGen.gen_brick_pattern_mask((48, 48), (20, 8), (4, 4), 0).image).offset((-2, -2))\n",
    "m.display(4)\n",
    "m = m.invert().outline(1, \"white\", True, 0.2).invert()\n",
    "m.display(4)\n",
    "m.take((0, 0), (96, 96)).display(4)"
   ]
  },
  {
   "cell_type": "code",
   "execution_count": null,
   "id": "f9201aff",
   "metadata": {},
   "outputs": [],
   "source": []
  }
 ],
 "metadata": {
  "kernelspec": {
   "display_name": "venv",
   "language": "python",
   "name": "python3"
  },
  "language_info": {
   "codemirror_mode": {
    "name": "ipython",
    "version": 3
   },
   "file_extension": ".py",
   "mimetype": "text/x-python",
   "name": "python",
   "nbconvert_exporter": "python",
   "pygments_lexer": "ipython3",
   "version": "3.12.10"
  }
 },
 "nbformat": 4,
 "nbformat_minor": 5
}
