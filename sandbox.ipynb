{
 "cells": [
  {
   "cell_type": "code",
   "execution_count": 14,
   "id": "737f3a68",
   "metadata": {},
   "outputs": [
    {
     "name": "stdout",
     "output_type": "stream",
     "text": [
      "t.val='tile'\n",
      "type(t)=<class '__main__.Tile'>\n",
      "m.val='getm'\n",
      "type(m)=<class '__main__.Mask'>\n",
      "x.val='get'\n",
      "type(x)=<class '__main__.Mask'>\n"
     ]
    }
   ],
   "source": [
    "from typing import Self\n",
    "\n",
    "\n",
    "\n",
    "class Tile:\n",
    "    def __init__(self, val = None, _build = None):\n",
    "        self.val = val\n",
    "        self.__build = Tile if _build is None else _build\n",
    "    \n",
    "    def get(self) -> Self:\n",
    "        return self.__build(\"get\")\n",
    "    \n",
    "    def getm(self) -> Self:\n",
    "        return Mask(\"getm\")\n",
    "\n",
    "class Mask(Tile):\n",
    "    def __init__(self, val=None):\n",
    "        super().__init__(val, _build=Mask)\n",
    "\n",
    "\n",
    "\n",
    "t = Tile(\"tile\")\n",
    "print(f\"{t.val=}\")\n",
    "print(f\"{type(t)=}\")\n",
    "\n",
    "m = t.getm()\n",
    "print(f\"{m.val=}\")\n",
    "print(f\"{type(m)=}\")\n",
    "\n",
    "x = m.get()\n",
    "print(f\"{x.val=}\")\n",
    "print(f\"{type(x)=}\")"
   ]
  },
  {
   "cell_type": "code",
   "execution_count": null,
   "id": "e4090a20",
   "metadata": {},
   "outputs": [
    {
     "name": "stdout",
     "output_type": "stream",
     "text": [
      "t.val='tile'\n",
      "type(t)=<class '__main__.Tile'>\n",
      "m.val='mask'\n",
      "type(m)=<class '__main__.Mask'>\n",
      "x.val='get'\n",
      "type(x)=<class '__main__.Mask'>\n"
     ]
    }
   ],
   "source": [
    "from typing import TypeVar, Generic, Type\n",
    "\n",
    "T = TypeVar('T', bound='Tile')\n",
    "\n",
    "class Tile(Generic[T]):\n",
    "    def __init__(self, val=None, _build: Type[T] = None):\n",
    "        self.val = val\n",
    "        self._build: Type[T] = _build if _build is not None else type(self)\n",
    "    \n",
    "    def get(self) -> T:\n",
    "        return self._build(\"get\")  # Type checker will now infer the correct type.\n",
    "    \n",
    "    def getm(self) -> T:\n",
    "        return self._build(\"getm\")\n",
    "\n",
    "\n",
    "class Mask(Tile['Mask']):\n",
    "    def __init__(self, val=None):\n",
    "        super().__init__(val, _build=Mask)\n",
    "\n",
    "\n",
    "\n",
    "t = Tile(\"tile\")\n",
    "print(f\"{t.val=}\")\n",
    "print(f\"{type(t)=}\")\n",
    "\n",
    "m = Mask(\"mask\")\n",
    "print(f\"{m.val=}\")\n",
    "print(f\"{type(m)=}\")\n",
    "\n",
    "x = m.get()\n",
    "print(f\"{x.val=}\")\n",
    "print(f\"{type(x)=}\")\n"
   ]
  }
 ],
 "metadata": {
  "kernelspec": {
   "display_name": "venv",
   "language": "python",
   "name": "python3"
  },
  "language_info": {
   "codemirror_mode": {
    "name": "ipython",
    "version": 3
   },
   "file_extension": ".py",
   "mimetype": "text/x-python",
   "name": "python",
   "nbconvert_exporter": "python",
   "pygments_lexer": "ipython3",
   "version": "3.12.10"
  }
 },
 "nbformat": 4,
 "nbformat_minor": 5
}
